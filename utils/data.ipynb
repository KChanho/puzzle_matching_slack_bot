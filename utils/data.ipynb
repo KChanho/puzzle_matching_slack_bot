{
 "cells": [
  {
   "cell_type": "code",
   "execution_count": 1,
   "metadata": {},
   "outputs": [],
   "source": [
    "import pandas as pd\n",
    "import csv"
   ]
  },
  {
   "cell_type": "code",
   "execution_count": 2,
   "metadata": {},
   "outputs": [],
   "source": [
    "test_df = pd.read_csv(\"./data/test.csv\")"
   ]
  },
  {
   "cell_type": "code",
   "execution_count": 3,
   "metadata": {},
   "outputs": [
    {
     "name": "stdout",
     "output_type": "stream",
     "text": [
      "<class 'pandas.core.frame.DataFrame'>\n",
      "RangeIndex: 34 entries, 0 to 33\n",
      "Data columns (total 4 columns):\n",
      " #   Column  Non-Null Count  Dtype \n",
      "---  ------  --------------  ----- \n",
      " 0   ID      34 non-null     object\n",
      " 1   이름      34 non-null     object\n",
      " 2   지역      34 non-null     object\n",
      " 3   날짜      34 non-null     int64 \n",
      "dtypes: int64(1), object(3)\n",
      "memory usage: 1.2+ KB\n"
     ]
    }
   ],
   "source": [
    "test_df.info()"
   ]
  },
  {
   "cell_type": "code",
   "execution_count": 5,
   "metadata": {},
   "outputs": [],
   "source": [
    "df = test_df.sort_values('날짜')"
   ]
  },
  {
   "attachments": {},
   "cell_type": "markdown",
   "metadata": {},
   "source": [
    "# 중복 제거"
   ]
  },
  {
   "cell_type": "code",
   "execution_count": 6,
   "metadata": {},
   "outputs": [],
   "source": [
    "df = df.drop_duplicates()"
   ]
  },
  {
   "attachments": {},
   "cell_type": "markdown",
   "metadata": {},
   "source": [
    "# ID, 이름에 에러가 있는 데이터 제거"
   ]
  },
  {
   "cell_type": "code",
   "execution_count": 7,
   "metadata": {},
   "outputs": [],
   "source": [
    "id_filter = df[\"ID\"].str.len() > 10\n",
    "df = df[id_filter]"
   ]
  },
  {
   "cell_type": "code",
   "execution_count": 8,
   "metadata": {},
   "outputs": [],
   "source": [
    "name_filter = df[\"이름\"].str.contains(\"_T4\")\n",
    "df = df[name_filter]"
   ]
  },
  {
   "attachments": {},
   "cell_type": "markdown",
   "metadata": {},
   "source": [
    "# 매칭 취소자 제거"
   ]
  },
  {
   "cell_type": "code",
   "execution_count": 9,
   "metadata": {},
   "outputs": [],
   "source": [
    "cancel_df = pd.read_csv(\"./data/cancel.csv\")"
   ]
  },
  {
   "cell_type": "code",
   "execution_count": 10,
   "metadata": {},
   "outputs": [],
   "source": [
    "cancel_filter = df[df['이름'].isin(set(cancel_df['이름'].unique()))].index"
   ]
  },
  {
   "cell_type": "code",
   "execution_count": 11,
   "metadata": {},
   "outputs": [],
   "source": [
    "df = df.drop(cancel_filter)"
   ]
  },
  {
   "attachments": {},
   "cell_type": "markdown",
   "metadata": {},
   "source": [
    "# 간단 매칭 알고리즘"
   ]
  },
  {
   "cell_type": "code",
   "execution_count": 23,
   "metadata": {},
   "outputs": [
    {
     "name": "stdout",
     "output_type": "stream",
     "text": [
      "(20221229, '서울-강남')\n"
     ]
    },
    {
     "data": {
      "text/html": [
       "<div>\n",
       "<style scoped>\n",
       "    .dataframe tbody tr th:only-of-type {\n",
       "        vertical-align: middle;\n",
       "    }\n",
       "\n",
       "    .dataframe tbody tr th {\n",
       "        vertical-align: top;\n",
       "    }\n",
       "\n",
       "    .dataframe thead th {\n",
       "        text-align: right;\n",
       "    }\n",
       "</style>\n",
       "<table border=\"1\" class=\"dataframe\">\n",
       "  <thead>\n",
       "    <tr style=\"text-align: right;\">\n",
       "      <th></th>\n",
       "      <th>ID</th>\n",
       "      <th>이름</th>\n",
       "      <th>지역</th>\n",
       "      <th>날짜</th>\n",
       "    </tr>\n",
       "  </thead>\n",
       "  <tbody>\n",
       "    <tr>\n",
       "      <th>14</th>\n",
       "      <td>U041ERYHTV3</td>\n",
       "      <td>테스트1_T4001</td>\n",
       "      <td>서울-강남</td>\n",
       "      <td>20221229</td>\n",
       "    </tr>\n",
       "    <tr>\n",
       "      <th>26</th>\n",
       "      <td>U041ERYHTV3</td>\n",
       "      <td>테스트3_T4012</td>\n",
       "      <td>서울-강남</td>\n",
       "      <td>20221229</td>\n",
       "    </tr>\n",
       "    <tr>\n",
       "      <th>19</th>\n",
       "      <td>U041ERYHTV3</td>\n",
       "      <td>테스트2_T4002</td>\n",
       "      <td>서울-강남</td>\n",
       "      <td>20221229</td>\n",
       "    </tr>\n",
       "  </tbody>\n",
       "</table>\n",
       "</div>"
      ],
      "text/plain": [
       "             ID          이름     지역        날짜\n",
       "14  U041ERYHTV3  테스트1_T4001  서울-강남  20221229\n",
       "26  U041ERYHTV3  테스트3_T4012  서울-강남  20221229\n",
       "19  U041ERYHTV3  테스트2_T4002  서울-강남  20221229"
      ]
     },
     "metadata": {},
     "output_type": "display_data"
    },
    {
     "name": "stdout",
     "output_type": "stream",
     "text": [
      "(20221231, '서울-강남')\n"
     ]
    },
    {
     "data": {
      "text/html": [
       "<div>\n",
       "<style scoped>\n",
       "    .dataframe tbody tr th:only-of-type {\n",
       "        vertical-align: middle;\n",
       "    }\n",
       "\n",
       "    .dataframe tbody tr th {\n",
       "        vertical-align: top;\n",
       "    }\n",
       "\n",
       "    .dataframe thead th {\n",
       "        text-align: right;\n",
       "    }\n",
       "</style>\n",
       "<table border=\"1\" class=\"dataframe\">\n",
       "  <thead>\n",
       "    <tr style=\"text-align: right;\">\n",
       "      <th></th>\n",
       "      <th>ID</th>\n",
       "      <th>이름</th>\n",
       "      <th>지역</th>\n",
       "      <th>날짜</th>\n",
       "    </tr>\n",
       "  </thead>\n",
       "  <tbody>\n",
       "    <tr>\n",
       "      <th>29</th>\n",
       "      <td>U041ERYHTV3</td>\n",
       "      <td>테스트3_T4012</td>\n",
       "      <td>서울-강남</td>\n",
       "      <td>20221231</td>\n",
       "    </tr>\n",
       "    <tr>\n",
       "      <th>23</th>\n",
       "      <td>U041ERYHTV3</td>\n",
       "      <td>테스트2_T4002</td>\n",
       "      <td>서울-강남</td>\n",
       "      <td>20221231</td>\n",
       "    </tr>\n",
       "    <tr>\n",
       "      <th>16</th>\n",
       "      <td>U041ERYHTV3</td>\n",
       "      <td>테스트1_T4001</td>\n",
       "      <td>서울-강남</td>\n",
       "      <td>20221231</td>\n",
       "    </tr>\n",
       "    <tr>\n",
       "      <th>7</th>\n",
       "      <td>U041ERYHTV3</td>\n",
       "      <td>김부캠_T4000</td>\n",
       "      <td>서울-강남</td>\n",
       "      <td>20221231</td>\n",
       "    </tr>\n",
       "  </tbody>\n",
       "</table>\n",
       "</div>"
      ],
      "text/plain": [
       "             ID          이름     지역        날짜\n",
       "29  U041ERYHTV3  테스트3_T4012  서울-강남  20221231\n",
       "23  U041ERYHTV3  테스트2_T4002  서울-강남  20221231\n",
       "16  U041ERYHTV3  테스트1_T4001  서울-강남  20221231\n",
       "7   U041ERYHTV3   김부캠_T4000  서울-강남  20221231"
      ]
     },
     "metadata": {},
     "output_type": "display_data"
    },
    {
     "name": "stdout",
     "output_type": "stream",
     "text": [
      "(20221231, '서울-강북')\n"
     ]
    },
    {
     "data": {
      "text/html": [
       "<div>\n",
       "<style scoped>\n",
       "    .dataframe tbody tr th:only-of-type {\n",
       "        vertical-align: middle;\n",
       "    }\n",
       "\n",
       "    .dataframe tbody tr th {\n",
       "        vertical-align: top;\n",
       "    }\n",
       "\n",
       "    .dataframe thead th {\n",
       "        text-align: right;\n",
       "    }\n",
       "</style>\n",
       "<table border=\"1\" class=\"dataframe\">\n",
       "  <thead>\n",
       "    <tr style=\"text-align: right;\">\n",
       "      <th></th>\n",
       "      <th>ID</th>\n",
       "      <th>이름</th>\n",
       "      <th>지역</th>\n",
       "      <th>날짜</th>\n",
       "    </tr>\n",
       "  </thead>\n",
       "  <tbody>\n",
       "    <tr>\n",
       "      <th>30</th>\n",
       "      <td>U041ERYHTV3</td>\n",
       "      <td>테스트3_T4012</td>\n",
       "      <td>서울-강북</td>\n",
       "      <td>20221231</td>\n",
       "    </tr>\n",
       "    <tr>\n",
       "      <th>6</th>\n",
       "      <td>U041ERYHTV3</td>\n",
       "      <td>김부캠_T4000</td>\n",
       "      <td>서울-강북</td>\n",
       "      <td>20221231</td>\n",
       "    </tr>\n",
       "  </tbody>\n",
       "</table>\n",
       "</div>"
      ],
      "text/plain": [
       "             ID          이름     지역        날짜\n",
       "30  U041ERYHTV3  테스트3_T4012  서울-강북  20221231\n",
       "6   U041ERYHTV3   김부캠_T4000  서울-강북  20221231"
      ]
     },
     "metadata": {},
     "output_type": "display_data"
    },
    {
     "name": "stdout",
     "output_type": "stream",
     "text": [
      "(20230101, '서울-강남')\n"
     ]
    },
    {
     "data": {
      "text/html": [
       "<div>\n",
       "<style scoped>\n",
       "    .dataframe tbody tr th:only-of-type {\n",
       "        vertical-align: middle;\n",
       "    }\n",
       "\n",
       "    .dataframe tbody tr th {\n",
       "        vertical-align: top;\n",
       "    }\n",
       "\n",
       "    .dataframe thead th {\n",
       "        text-align: right;\n",
       "    }\n",
       "</style>\n",
       "<table border=\"1\" class=\"dataframe\">\n",
       "  <thead>\n",
       "    <tr style=\"text-align: right;\">\n",
       "      <th></th>\n",
       "      <th>ID</th>\n",
       "      <th>이름</th>\n",
       "      <th>지역</th>\n",
       "      <th>날짜</th>\n",
       "    </tr>\n",
       "  </thead>\n",
       "  <tbody>\n",
       "    <tr>\n",
       "      <th>21</th>\n",
       "      <td>U041ERYHTV3</td>\n",
       "      <td>테스트2_T4002</td>\n",
       "      <td>서울-강남</td>\n",
       "      <td>20230101</td>\n",
       "    </tr>\n",
       "    <tr>\n",
       "      <th>32</th>\n",
       "      <td>U041ERYHTV3</td>\n",
       "      <td>테스트3_T4012</td>\n",
       "      <td>서울-강남</td>\n",
       "      <td>20230101</td>\n",
       "    </tr>\n",
       "    <tr>\n",
       "      <th>18</th>\n",
       "      <td>U041ERYHTV3</td>\n",
       "      <td>테스트1_T4001</td>\n",
       "      <td>서울-강남</td>\n",
       "      <td>20230101</td>\n",
       "    </tr>\n",
       "  </tbody>\n",
       "</table>\n",
       "</div>"
      ],
      "text/plain": [
       "             ID          이름     지역        날짜\n",
       "21  U041ERYHTV3  테스트2_T4002  서울-강남  20230101\n",
       "32  U041ERYHTV3  테스트3_T4012  서울-강남  20230101\n",
       "18  U041ERYHTV3  테스트1_T4001  서울-강남  20230101"
      ]
     },
     "metadata": {},
     "output_type": "display_data"
    }
   ],
   "source": [
    "for (k1, k2), group in df.groupby(['날짜', '지역']):\n",
    "    if len(group) > 1:\n",
    "        print((k1, k2))\n",
    "        display(group)"
   ]
  },
  {
   "cell_type": "code",
   "execution_count": 12,
   "metadata": {},
   "outputs": [
    {
     "name": "stdout",
     "output_type": "stream",
     "text": [
      "(20221229, '서울-강남')\n"
     ]
    },
    {
     "data": {
      "text/html": [
       "<div>\n",
       "<style scoped>\n",
       "    .dataframe tbody tr th:only-of-type {\n",
       "        vertical-align: middle;\n",
       "    }\n",
       "\n",
       "    .dataframe tbody tr th {\n",
       "        vertical-align: top;\n",
       "    }\n",
       "\n",
       "    .dataframe thead th {\n",
       "        text-align: right;\n",
       "    }\n",
       "</style>\n",
       "<table border=\"1\" class=\"dataframe\">\n",
       "  <thead>\n",
       "    <tr style=\"text-align: right;\">\n",
       "      <th></th>\n",
       "      <th>ID</th>\n",
       "      <th>이름</th>\n",
       "      <th>지역</th>\n",
       "      <th>날짜</th>\n",
       "    </tr>\n",
       "  </thead>\n",
       "  <tbody>\n",
       "    <tr>\n",
       "      <th>14</th>\n",
       "      <td>U041ERYHTV3</td>\n",
       "      <td>테스트1_T4001</td>\n",
       "      <td>서울-강남</td>\n",
       "      <td>20221229</td>\n",
       "    </tr>\n",
       "    <tr>\n",
       "      <th>26</th>\n",
       "      <td>U041ERYHTV3</td>\n",
       "      <td>테스트3_T4012</td>\n",
       "      <td>서울-강남</td>\n",
       "      <td>20221229</td>\n",
       "    </tr>\n",
       "    <tr>\n",
       "      <th>19</th>\n",
       "      <td>U041ERYHTV3</td>\n",
       "      <td>테스트2_T4002</td>\n",
       "      <td>서울-강남</td>\n",
       "      <td>20221229</td>\n",
       "    </tr>\n",
       "  </tbody>\n",
       "</table>\n",
       "</div>"
      ],
      "text/plain": [
       "             ID          이름     지역        날짜\n",
       "14  U041ERYHTV3  테스트1_T4001  서울-강남  20221229\n",
       "26  U041ERYHTV3  테스트3_T4012  서울-강남  20221229\n",
       "19  U041ERYHTV3  테스트2_T4002  서울-강남  20221229"
      ]
     },
     "metadata": {},
     "output_type": "display_data"
    },
    {
     "name": "stdout",
     "output_type": "stream",
     "text": [
      "전체 매칭 신청 인원 수: 4 \n",
      "매칭 완료 인원 수: 3\n"
     ]
    }
   ],
   "source": [
    "# 그냥 시간 순서대로 매칭~\n",
    "visited = []\n",
    "result = []\n",
    "for (k1, k2), group in df.groupby(['날짜', '지역']):\n",
    "    _group = group[~group['이름'].isin(visited)]\n",
    "    if len(_group) > 1:\n",
    "        print((k1, k2))\n",
    "        display(_group)\n",
    "        for n, i in zip(_group['이름'].values, _group['ID'].values):\n",
    "            visited.append(n)\n",
    "            result.append([i, n, k2, k1])\n",
    "print(f\"전체 매칭 신청 인원 수: {df['이름'].nunique()} \\n매칭 완료 인원 수: {len(result)}\")"
   ]
  },
  {
   "cell_type": "code",
   "execution_count": 13,
   "metadata": {},
   "outputs": [],
   "source": [
    "with open('./data/result.csv', 'w', newline='') as csvfile:\n",
    "    wr = csv.writer(csvfile)\n",
    "    wr.writerow(['ID', '이름', '지역', '날짜'])   # 열 제목"
   ]
  },
  {
   "cell_type": "code",
   "execution_count": 14,
   "metadata": {},
   "outputs": [],
   "source": [
    "with open('./data/result.csv', 'a', newline='') as csvfile:\n",
    "        ar = csv.writer(csvfile)\n",
    "        for r in result:\n",
    "            ar.writerow(r)"
   ]
  }
 ],
 "metadata": {
  "kernelspec": {
   "display_name": ".slackBot",
   "language": "python",
   "name": "python3"
  },
  "language_info": {
   "codemirror_mode": {
    "name": "ipython",
    "version": 3
   },
   "file_extension": ".py",
   "mimetype": "text/x-python",
   "name": "python",
   "nbconvert_exporter": "python",
   "pygments_lexer": "ipython3",
   "version": "3.10.8 (main, Oct 21 2022, 22:22:30) [Clang 14.0.0 (clang-1400.0.29.202)]"
  },
  "orig_nbformat": 4,
  "vscode": {
   "interpreter": {
    "hash": "b76ff9a52978a3a09aa70cab433673e026f439d2c9fd97a07b679d495424812b"
   }
  }
 },
 "nbformat": 4,
 "nbformat_minor": 2
}
